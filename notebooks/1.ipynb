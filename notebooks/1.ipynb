{
 "cells": [
  {
   "cell_type": "code",
   "execution_count": null,
   "id": "cacd0144",
   "metadata": {},
   "outputs": [
    {
     "data": {
      "application/vnd.jupyter.widget-view+json": {
       "model_id": "440133e27553423e94e5bad700771c7f",
       "version_major": 2,
       "version_minor": 0
      },
      "text/plain": [
       "interactive(children=(Text(value='Gamze', description='name'), Output()), _dom_classes=('widget-interact',))"
      ]
     },
     "metadata": {},
     "output_type": "display_data"
    },
    {
     "data": {
      "text/plain": [
       "<function __main__.greet(name)>"
      ]
     },
     "execution_count": 2,
     "metadata": {},
     "output_type": "execute_result"
    }
   ],
   "source": [
    "from ipywidgets import interact\n",
    "import ipywidgets as widgets\n",
    "def greet(name):\n",
    "    return f\"Hello, {name}!\"\n",
    "\n",
    "interact(greet, name=\"Gamze\")"
   ]
  },
  {
   "cell_type": "code",
   "execution_count": null,
   "id": "d400aac7",
   "metadata": {},
   "outputs": [
    {
     "data": {
      "application/vnd.jupyter.widget-view+json": {
       "model_id": "6cc1a4afeb744c668068e2e4bae0930e",
       "version_major": 2,
       "version_minor": 0
      },
      "text/plain": [
       "interactive(children=(Dropdown(description='color', options=('Red', 'Green', 'Blue'), value='Red'), Output()),…"
      ]
     },
     "metadata": {},
     "output_type": "display_data"
    },
    {
     "data": {
      "text/plain": [
       "<function __main__.choose_color(color)>"
      ]
     },
     "execution_count": 4,
     "metadata": {},
     "output_type": "execute_result"
    }
   ],
   "source": [
    "def choose_color(color):\n",
    "    return f\"You chose {color}!\"\n",
    "\n",
    "interact(choose_color, color=['Red', 'Green', 'Blue'])"
   ]
  },
  {
   "cell_type": "code",
   "execution_count": 3,
   "id": "12deb1fb",
   "metadata": {},
   "outputs": [
    {
     "data": {
      "application/vnd.jupyter.widget-view+json": {
       "model_id": "3645c4eaede44afe9ec23a95cf20daa1",
       "version_major": 2,
       "version_minor": 0
      },
      "text/plain": [
       "interactive(children=(IntSlider(value=5, description='x', max=15, min=-5), Output()), _dom_classes=('widget-in…"
      ]
     },
     "metadata": {},
     "output_type": "display_data"
    },
    {
     "data": {
      "text/plain": [
       "<function __main__.square(x)>"
      ]
     },
     "execution_count": 3,
     "metadata": {},
     "output_type": "execute_result"
    }
   ],
   "source": [
    "def square(x):\n",
    "    return x ** 2\n",
    "\n",
    "interact(square, x=5)  # or x=widgets.IntSlider(min=0, max=10, step=1, value=5)"
   ]
  },
  {
   "cell_type": "code",
   "execution_count": 5,
   "id": "c0854c69",
   "metadata": {},
   "outputs": [
    {
     "data": {
      "application/vnd.jupyter.widget-view+json": {
       "model_id": "36da8923de7442238611d7e9e8d2818d",
       "version_major": 2,
       "version_minor": 0
      },
      "text/plain": [
       "interactive(children=(Checkbox(value=True, description='verbose'), Output()), _dom_classes=('widget-interact',…"
      ]
     },
     "metadata": {},
     "output_type": "display_data"
    },
    {
     "data": {
      "text/plain": [
       "<function __main__.toggle(verbose)>"
      ]
     },
     "execution_count": 5,
     "metadata": {},
     "output_type": "execute_result"
    }
   ],
   "source": [
    "def toggle(verbose):\n",
    "    return \"Verbose mode is on\" if verbose else \"Verbose mode is off\"\n",
    "\n",
    "interact(toggle, verbose=True)"
   ]
  },
  {
   "cell_type": "code",
   "execution_count": 7,
   "id": "e8020d7f",
   "metadata": {},
   "outputs": [
    {
     "data": {
      "application/vnd.jupyter.widget-view+json": {
       "model_id": "bd32ee9c838545c2a85ee9881df65e28",
       "version_major": 2,
       "version_minor": 0
      },
      "text/plain": [
       "IntSlider(value=50, description='Sayı:')"
      ]
     },
     "metadata": {},
     "output_type": "display_data"
    },
    {
     "data": {
      "application/vnd.jupyter.widget-view+json": {
       "model_id": "86c57eb751a64ac39d363438372f2080",
       "version_major": 2,
       "version_minor": 0
      },
      "text/plain": [
       "Text(value='Merhaba', description='İsim:')"
      ]
     },
     "metadata": {},
     "output_type": "display_data"
    }
   ],
   "source": [
    "import ipywidgets as widgets\n",
    "from IPython.display import display\n",
    "\n",
    "# --- SLIDER ÖRNEĞİ ---\n",
    "\n",
    "# 1. Slider oluştur\n",
    "slider = widgets.IntSlider(min=0, max=100, step=1, value=50, description='Sayı:')\n",
    "\n",
    "# 2. Gözlemci fonksiyonu tanımla\n",
    "def slider_changed(change):\n",
    "    print(f\"Slider değeri değişti: {change['old']} → {change['new']}\")\n",
    "\n",
    "# 3. Değeri dinle\n",
    "slider.observe(slider_changed, names='value')\n",
    "\n",
    "# 4. Görüntüle\n",
    "display(slider)\n",
    "\n",
    "# --- TEXT BOX ÖRNEĞİ ---\n",
    "\n",
    "# 1. Metin kutusu oluştur\n",
    "text = widgets.Text(value='Merhaba', description='İsim:')\n",
    "\n",
    "# 2. Gözlemci fonksiyonu tanımla\n",
    "def text_changed(change):\n",
    "    print(f\"Yeni metin: {change['new']}\")\n",
    "\n",
    "# 3. Değeri dinle\n",
    "text.observe(text_changed, names='value')\n",
    "\n",
    "# 4. Görüntüle\n",
    "display(text)\n"
   ]
  },
  {
   "cell_type": "code",
   "execution_count": 8,
   "id": "21cc231c",
   "metadata": {},
   "outputs": [
    {
     "data": {
      "application/vnd.jupyter.widget-view+json": {
       "model_id": "a39646fdc3324cca8df85dc0c4f2fe3a",
       "version_major": 2,
       "version_minor": 0
      },
      "text/plain": [
       "IntSlider(value=5, description='Num1:')"
      ]
     },
     "metadata": {},
     "output_type": "display_data"
    },
    {
     "data": {
      "application/vnd.jupyter.widget-view+json": {
       "model_id": "a679327f63bc4219bed6d60fe2a39f0c",
       "version_major": 2,
       "version_minor": 0
      },
      "text/plain": [
       "IntSlider(value=10, description='Num2:')"
      ]
     },
     "metadata": {},
     "output_type": "display_data"
    },
    {
     "data": {
      "application/vnd.jupyter.widget-view+json": {
       "model_id": "4ddb2239f57342e2a30a35b49bfea1a4",
       "version_major": 2,
       "version_minor": 0
      },
      "text/plain": [
       "Dropdown(description='Op:', options=('+', '-', '*', '/'), value='+')"
      ]
     },
     "metadata": {},
     "output_type": "display_data"
    },
    {
     "data": {
      "application/vnd.jupyter.widget-view+json": {
       "model_id": "a5165532883e4500ab5cdb705258a40e",
       "version_major": 2,
       "version_minor": 0
      },
      "text/plain": [
       "Output()"
      ]
     },
     "metadata": {},
     "output_type": "display_data"
    }
   ],
   "source": [
    "import ipywidgets as widgets\n",
    "from IPython.display import display, clear_output\n",
    "\n",
    "# --- Widgets ---\n",
    "num1 = widgets.IntSlider(value=5, min=0, max=100, description='Num1:')\n",
    "num2 = widgets.IntSlider(value=10, min=0, max=100, description='Num2:')\n",
    "operation = widgets.Dropdown(\n",
    "    options=['+', '-', '*', '/'],\n",
    "    value='+',\n",
    "    description='Op:'\n",
    ")\n",
    "output = widgets.Output()\n",
    "\n",
    "# --- Calculation function ---\n",
    "def calculate_result(change):\n",
    "    with output:\n",
    "        clear_output()\n",
    "        a = num1.value\n",
    "        b = num2.value\n",
    "        op = operation.value\n",
    "        \n",
    "        try:\n",
    "            if op == '+':\n",
    "                result = a + b\n",
    "            elif op == '-':\n",
    "                result = a - b\n",
    "            elif op == '*':\n",
    "                result = a * b\n",
    "            elif op == '/':\n",
    "                result = a / b if b != 0 else \"∞ (division by zero)\"\n",
    "            print(f\"{a} {op} {b} = {result}\")\n",
    "        except Exception as e:\n",
    "            print(f\"Error: {e}\")\n",
    "\n",
    "# --- Observe each widget ---\n",
    "num1.observe(calculate_result, names='value')\n",
    "num2.observe(calculate_result, names='value')\n",
    "operation.observe(calculate_result, names='value')\n",
    "\n",
    "# --- Display everything ---\n",
    "display(num1, num2, operation, output)\n",
    "\n",
    "# Show initial result\n",
    "calculate_result(None)\n"
   ]
  },
  {
   "cell_type": "code",
   "execution_count": null,
   "id": "2f01a0cf",
   "metadata": {},
   "outputs": [],
   "source": [
    "a=5\n",
    "b=3\n"
   ]
  }
 ],
 "metadata": {
  "kernelspec": {
   "display_name": ".venv",
   "language": "python",
   "name": "python3"
  },
  "language_info": {
   "codemirror_mode": {
    "name": "ipython",
    "version": 3
   },
   "file_extension": ".py",
   "mimetype": "text/x-python",
   "name": "python",
   "nbconvert_exporter": "python",
   "pygments_lexer": "ipython3",
   "version": "3.13.5"
  }
 },
 "nbformat": 4,
 "nbformat_minor": 5
}
