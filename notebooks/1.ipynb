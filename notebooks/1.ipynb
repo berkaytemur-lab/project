{
 "cells": [
  {
   "cell_type": "code",
   "execution_count": null,
   "id": "cacd0144",
   "metadata": {},
   "outputs": [],
   "source": [
    "from ipywidgets import interact\n",
    "import ipywidgets as widgets\n",
    "def greet(name):\n",
    "    return f\"Hello, {name}!\"\n",
    "\n",
    "interact(greet, name=\"Gamze\")"
   ]
  },
  {
   "cell_type": "code",
   "execution_count": 1,
   "id": "f6775c61",
   "metadata": {},
   "outputs": [
    {
     "data": {
      "application/vnd.jupyter.widget-view+json": {
       "model_id": "abd4c14b28a74333a4d52b64f056c604",
       "version_major": 2,
       "version_minor": 0
      },
      "text/plain": [
       "Textarea(value='def my_function(x, y):\\n    a = [1, 2, 3, 4]\\n    a[0] += x\\n    a[1] *= y\\n    return a', des…"
      ]
     },
     "metadata": {},
     "output_type": "display_data"
    },
    {
     "data": {
      "application/vnd.jupyter.widget-view+json": {
       "model_id": "0f4f8e052112424dacce5024c3d91946",
       "version_major": 2,
       "version_minor": 0
      },
      "text/plain": [
       "IntSlider(value=1, description='x:', max=10)"
      ]
     },
     "metadata": {},
     "output_type": "display_data"
    },
    {
     "data": {
      "application/vnd.jupyter.widget-view+json": {
       "model_id": "683589fa9fcd45e8a1f2742e5a2e2e95",
       "version_major": 2,
       "version_minor": 0
      },
      "text/plain": [
       "IntSlider(value=1, description='y:', max=10, min=1)"
      ]
     },
     "metadata": {},
     "output_type": "display_data"
    },
    {
     "data": {
      "application/vnd.jupyter.widget-view+json": {
       "model_id": "dfecb7fc51044ebb9f5f09019211c3ed",
       "version_major": 2,
       "version_minor": 0
      },
      "text/plain": [
       "Output()"
      ]
     },
     "metadata": {},
     "output_type": "display_data"
    }
   ],
   "source": [
    "import ipywidgets as widgets\n",
    "from IPython.display import display, clear_output\n",
    "import numpy as np\n",
    "\n",
    "# --- User-defined function area ---\n",
    "code_input = widgets.Textarea(\n",
    "    value=\"\"\"\n",
    "def my_function(x, y):\n",
    "    a = [1, 2, 3, 4]\n",
    "    a[0] += x\n",
    "    a[1] *= y\n",
    "    return a\n",
    "\"\"\".strip(),\n",
    "    description='Function:',\n",
    "    layout=widgets.Layout(width='600px', height='200px')\n",
    ")\n",
    "\n",
    "# --- Input variables (you can add more) ---\n",
    "x_input = widgets.IntSlider(value=1, min=0, max=10, description='x:')\n",
    "y_input = widgets.IntSlider(value=1, min=1, max=10, description='y:')\n",
    "\n",
    "# --- Output area ---\n",
    "output = widgets.Output()\n",
    "\n",
    "# --- Function to execute and show result ---\n",
    "def update_output(change):\n",
    "    with output:\n",
    "        clear_output()\n",
    "        local_vars = {}\n",
    "        try:\n",
    "            exec(code_input.value, {}, local_vars)  # define function dynamically\n",
    "            f = local_vars.get(\"my_function\")\n",
    "            if callable(f):\n",
    "                result = f(x_input.value, y_input.value)\n",
    "                print(f\"Result: {result}\")\n",
    "            else:\n",
    "                print(\"No valid `my_function(x, y)` found.\")\n",
    "        except Exception as e:\n",
    "            print(f\"❌ Error in function: {e}\")\n",
    "\n",
    "# --- Observe all inputs ---\n",
    "x_input.observe(update_output, names='value')\n",
    "y_input.observe(update_output, names='value')\n",
    "code_input.observe(update_output, names='value')\n",
    "\n",
    "# --- Display everything ---\n",
    "display(code_input, x_input, y_input, output)\n",
    "\n",
    "# Show initial result\n",
    "update_output(None)\n"
   ]
  },
  {
   "cell_type": "code",
   "execution_count": 2,
   "id": "d400aac7",
   "metadata": {},
   "outputs": [
    {
     "ename": "NameError",
     "evalue": "name 'interact' is not defined",
     "output_type": "error",
     "traceback": [
      "\u001b[31m---------------------------------------------------------------------------\u001b[39m",
      "\u001b[31mNameError\u001b[39m                                 Traceback (most recent call last)",
      "\u001b[36mCell\u001b[39m\u001b[36m \u001b[39m\u001b[32mIn[2]\u001b[39m\u001b[32m, line 4\u001b[39m\n\u001b[32m      1\u001b[39m \u001b[38;5;28;01mdef\u001b[39;00m\u001b[38;5;250m \u001b[39m\u001b[34mchoose_color\u001b[39m(color):\n\u001b[32m      2\u001b[39m     \u001b[38;5;28;01mreturn\u001b[39;00m \u001b[33mf\u001b[39m\u001b[33m\"\u001b[39m\u001b[33mYou chose \u001b[39m\u001b[38;5;132;01m{\u001b[39;00mcolor\u001b[38;5;132;01m}\u001b[39;00m\u001b[33m!\u001b[39m\u001b[33m\"\u001b[39m\n\u001b[32m----> \u001b[39m\u001b[32m4\u001b[39m \u001b[43minteract\u001b[49m(choose_color, color=[\u001b[33m'\u001b[39m\u001b[33mRed\u001b[39m\u001b[33m'\u001b[39m, \u001b[33m'\u001b[39m\u001b[33mGreen\u001b[39m\u001b[33m'\u001b[39m, \u001b[33m'\u001b[39m\u001b[33mBlue\u001b[39m\u001b[33m'\u001b[39m])\n",
      "\u001b[31mNameError\u001b[39m: name 'interact' is not defined"
     ]
    }
   ],
   "source": [
    "def choose_color(color):\n",
    "    return f\"You chose {color}!\"\n",
    "\n",
    "interact(choose_color, color=['Red', 'Green', 'Blue'])"
   ]
  },
  {
   "cell_type": "code",
   "execution_count": null,
   "id": "12deb1fb",
   "metadata": {},
   "outputs": [],
   "source": [
    "def square(x):\n",
    "    return x ** 2\n",
    "\n",
    "interact(square, x=5)  # or x=widgets.IntSlider(min=0, max=10, step=1, value=5)"
   ]
  },
  {
   "cell_type": "code",
   "execution_count": null,
   "id": "c0854c69",
   "metadata": {},
   "outputs": [],
   "source": [
    "def toggle(verbose):\n",
    "    return \"Verbose mode is on\" if verbose else \"Verbose mode is off\"\n",
    "\n",
    "interact(toggle, verbose=True)"
   ]
  },
  {
   "cell_type": "code",
   "execution_count": null,
   "id": "e8020d7f",
   "metadata": {},
   "outputs": [],
   "source": [
    "import ipywidgets as widgets\n",
    "from IPython.display import display\n",
    "\n",
    "# --- SLIDER ÖRNEĞİ ---\n",
    "\n",
    "# 1. Slider oluştur\n",
    "slider = widgets.IntSlider(min=0, max=100, step=1, value=50, description='Sayı:')\n",
    "\n",
    "# 2. Gözlemci fonksiyonu tanımla\n",
    "def slider_changed(change):\n",
    "    print(f\"Slider değeri değişti: {change['old']} → {change['new']}\")\n",
    "\n",
    "# 3. Değeri dinle\n",
    "slider.observe(slider_changed, names='value')\n",
    "\n",
    "# 4. Görüntüle\n",
    "display(slider)\n",
    "\n",
    "# --- TEXT BOX ÖRNEĞİ ---\n",
    "\n",
    "# 1. Metin kutusu oluştur\n",
    "text = widgets.Text(value='Merhaba', description='İsim:')\n",
    "\n",
    "# 2. Gözlemci fonksiyonu tanımla\n",
    "def text_changed(change):\n",
    "    print(f\"Yeni metin: {change['new']}\")\n",
    "\n",
    "# 3. Değeri dinle\n",
    "text.observe(text_changed, names='value')\n",
    "\n",
    "# 4. Görüntüle\n",
    "display(text)\n"
   ]
  },
  {
   "cell_type": "code",
   "execution_count": null,
   "id": "21cc231c",
   "metadata": {},
   "outputs": [],
   "source": [
    "import ipywidgets as widgets\n",
    "from IPython.display import display, clear_output\n",
    "\n",
    "# --- Widgets ---\n",
    "num1 = widgets.IntSlider(value=5, min=0, max=100, description='Num1:')\n",
    "num2 = widgets.IntSlider(value=10, min=0, max=100, description='Num2:')\n",
    "operation = widgets.Dropdown(\n",
    "    options=['+', '-', '*', '/'],\n",
    "    value='+',\n",
    "    description='Op:'\n",
    ")\n",
    "output = widgets.Output()\n",
    "\n",
    "# --- Calculation function ---\n",
    "def calculate_result(change):\n",
    "    with output:\n",
    "        clear_output()\n",
    "        a = num1.value\n",
    "        b = num2.value\n",
    "        op = operation.value\n",
    "        \n",
    "        try:\n",
    "            if op == '+':\n",
    "                result = a + b\n",
    "            elif op == '-':\n",
    "                result = a - b\n",
    "            elif op == '*':\n",
    "                result = a * b\n",
    "            elif op == '/':\n",
    "                result = a / b if b != 0 else \"∞ (division by zero)\"\n",
    "            print(f\"{a} {op} {b} = {result}\")\n",
    "        except Exception as e:\n",
    "            print(f\"Error: {e}\")\n",
    "\n",
    "# --- Observe each widget ---\n",
    "num1.observe(calculate_result, names='value')\n",
    "num2.observe(calculate_result, names='value')\n",
    "operation.observe(calculate_result, names='value')\n",
    "\n",
    "# --- Display everything ---\n",
    "display(num1, num2, operation, output)\n",
    "\n",
    "# Show initial result\n",
    "calculate_result(None)\n"
   ]
  },
  {
   "cell_type": "code",
   "execution_count": null,
   "id": "2f01a0cf",
   "metadata": {},
   "outputs": [],
   "source": [
    "a=5\n",
    "b=3\n"
   ]
  }
 ],
 "metadata": {
  "kernelspec": {
   "display_name": "Python 3",
   "language": "python",
   "name": "python3"
  },
  "language_info": {
   "codemirror_mode": {
    "name": "ipython",
    "version": 3
   },
   "file_extension": ".py",
   "mimetype": "text/x-python",
   "name": "python",
   "nbconvert_exporter": "python",
   "pygments_lexer": "ipython3",
   "version": "3.12.1"
  }
 },
 "nbformat": 4,
 "nbformat_minor": 5
}
