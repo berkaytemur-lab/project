{
 "cells": [
  {
   "cell_type": "code",
   "execution_count": null,
   "id": "85da62fb",
   "metadata": {},
   "outputs": [
    {
     "name": "stdout",
     "output_type": "stream",
     "text": [
      "%32.4\n"
     ]
    }
   ],
   "source": [
    "dis=0.01\n",
    "pos_diseased=0.95\n",
    "pos_ndiseased=0.02\n",
    "\n",
    "def bayes (pos_diseased,dis,pos_ndiseased,pos=None):\n",
    "    ndis=1-dis   \n",
    "    if pos == None:\n",
    "        pos=(pos_diseased*dis) + (pos_ndiseased * ndis)\n",
    "    diseased_pos=f\"%{((pos_diseased*dis)/pos)*100:.3f}\"\n",
    "    return diseased_pos\n",
    "\n",
    "d=bayes(pos_diseased,dis,pos_ndiseased)\n",
    "print(d)   \n"
   ]
  }
 ],
 "metadata": {
  "kernelspec": {
   "display_name": ".venv",
   "language": "python",
   "name": "python3"
  },
  "language_info": {
   "codemirror_mode": {
    "name": "ipython",
    "version": 3
   },
   "file_extension": ".py",
   "mimetype": "text/x-python",
   "name": "python",
   "nbconvert_exporter": "python",
   "pygments_lexer": "ipython3",
   "version": "3.13.5"
  }
 },
 "nbformat": 4,
 "nbformat_minor": 5
}
